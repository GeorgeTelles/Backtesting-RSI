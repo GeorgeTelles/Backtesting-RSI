{
  "nbformat": 4,
  "nbformat_minor": 0,
  "metadata": {
    "colab": {
      "provenance": [],
      "authorship_tag": "ABX9TyMdbWCG3fZQqW4bnlF400Du",
      "include_colab_link": true
    },
    "kernelspec": {
      "name": "python3",
      "display_name": "Python 3"
    },
    "language_info": {
      "name": "python"
    }
  },
  "cells": [
    {
      "cell_type": "markdown",
      "metadata": {
        "id": "view-in-github",
        "colab_type": "text"
      },
      "source": [
        "<a href=\"https://colab.research.google.com/github/GeorgeTelles/Backtesting-RSI/blob/main/Backtesting_RSI.ipynb\" target=\"_parent\"><img src=\"https://colab.research.google.com/assets/colab-badge.svg\" alt=\"Open In Colab\"/></a>"
      ]
    },
    {
      "cell_type": "markdown",
      "source": [
        "# Backtesting: Relative Strength Index (RSI)"
      ],
      "metadata": {
        "id": "JjxCSRIkNIOp"
      }
    },
    {
      "cell_type": "markdown",
      "source": [
        "## Description\n",
        "\n",
        "This project aims to develop a Python algorithm for backtesting financial assets using the Relative Strength Index (RSI). Backtesting is a crucial technique for evaluating the effectiveness of investment strategies, allowing investors to test their approaches with historical data before applying them in real-time.\n",
        "\n",
        "## Project Features\n",
        "\n",
        "- **Data Collection**: Import historical price data of financial assets (stocks, currencies, etc.) from sources such as financial APIs or CSV files.\n",
        "  \n",
        "- **RSI Calculation**: Implement the calculation of the Relative Strength Index (RSI) to assess the strength of a price trend and identify overbought or oversold conditions. RSI is calculated based on price changes over a specified period, commonly 14 days.\n",
        "\n",
        "- **Strategy Simulation**: Test various trading strategies based on RSI, such as buying in oversold conditions and selling in overbought conditions, or crossing critical levels (e.g., 30 and 70).\n",
        "\n",
        "- **Performance Evaluation**: Measure the performance of strategies using metrics such as total return, drawdown, and other relevant financial metrics.\n",
        "\n",
        "- **Visualization**: Generate charts to visualize asset prices, RSI values, and buy/sell signals. Visualizations help understand the relationship between price movements and RSI signals.\n",
        "\n",
        "## Technologies Used\n",
        "\n",
        "- **Language**: Python\n",
        "\n",
        "- **Libraries**:\n",
        "  - `pandas` for data manipulation\n",
        "  - `numpy` for numerical calculations\n",
        "  - `matplotlib` and `seaborn` for visualization\n",
        "  - `requests` or `yfinance` for financial data collection\n",
        "\n",
        "- **Development Environment**: Jupyter Notebook or your preferred IDE\n",
        "\n",
        "## Project Structure\n",
        "\n",
        "1. **Data Collection**: Scripts for importing and cleaning financial data.\n",
        "   \n",
        "2. **RSI Calculation**: Implementation of the Relative Strength Index calculation, including the determination of average gains and losses.\n",
        "\n",
        "3. **Backtesting Engine**: Logic for simulating trading strategies and evaluating performance based on RSI.\n",
        "\n",
        "4. **Visualization**: Tools for creating charts and detailed reports on RSI performance and applied strategies.\n",
        "\n",
        "## Disclaimer\n",
        "\n",
        "This code is provided for demonstration purposes only. The content here is intended to provide supplementary information to assist the investor in making their own investment decisions. None of the topics covered should be construed as any form of endorsement/offer/solicitation for the purchase/sale of any product.\n",
        "\n",
        "## Documentation for the Library to be Used\n",
        "\n",
        "[https://vectorbt.dev/](https://vectorbt.dev/)\n",
        "\n",
        "## What is the Relative Strength Index (RSI)\n",
        "\n",
        "The Relative Strength Index (RSI) is a widely used technical indicator in financial market analysis to evaluate the speed and change of price movements. Developed by J. Welles Wilder in the 1970s, RSI oscillates between 0 and 100 and is typically calculated over a 14-day period.\n",
        "\n",
        "- **Overbought and Oversold Conditions**: RSI is used to identify overbought and oversold conditions. Generally, values above 70 indicate overbought conditions, while values below 30 indicate oversold conditions. These conditions can suggest potential reversal points in the market.\n",
        "\n",
        "- **RSI Formula**: RSI is calculated using the formula:\n",
        "  \n",
        "  \\[\n",
        "  RSI = 100 - \\frac{100}{1 + RS}\n",
        "  \\]\n",
        "\n",
        "  Where \\( RS \\) is the average of gains over the past 14 periods divided by the average of losses over the same periods.\n",
        "\n",
        "- **Interpretation**: RSI is used to identify potential reversal points in prices and to confirm the strength of a trend. It helps traders recognize moments of potential exhaustion of the current trend.\n"
      ],
      "metadata": {
        "id": "S8iHuECfNFmC"
      }
    },
    {
      "cell_type": "markdown",
      "source": [
        "#1. Importando Bibliotecas e Modulos"
      ],
      "metadata": {
        "id": "jM_FAWDZ7kJS"
      }
    },
    {
      "cell_type": "code",
      "source": [
        "!pip install ta\n",
        "!pip install vectorbt"
      ],
      "metadata": {
        "id": "23SPlafi9GXy"
      },
      "execution_count": null,
      "outputs": []
    },
    {
      "cell_type": "code",
      "execution_count": null,
      "metadata": {
        "id": "Sjub8llW7bv-"
      },
      "outputs": [],
      "source": [
        "import pandas as pd\n",
        "import yfinance as yf\n",
        "import matplotlib.pyplot as plt\n",
        "import numpy as np\n",
        "import vectorbt as vbt\n",
        "import ta\n",
        "import warnings\n",
        "warnings.filterwarnings('ignore')"
      ]
    },
    {
      "cell_type": "markdown",
      "source": [
        "# 2. Obtendo dados dos Ativos"
      ],
      "metadata": {
        "id": "5yFCUYHh7pza"
      }
    },
    {
      "cell_type": "code",
      "source": [
        "ativo = \"ITUB4.SA\"\n",
        "\n",
        "dados_ohlc = yf.download(ativo, \"2023-1-1\")"
      ],
      "metadata": {
        "id": "UYZtsY6g7tyR"
      },
      "execution_count": null,
      "outputs": []
    },
    {
      "cell_type": "markdown",
      "source": [
        "#3. Tratando, modelando e separando os dados"
      ],
      "metadata": {
        "id": "Brj78fKk7yAp"
      }
    },
    {
      "cell_type": "code",
      "source": [
        "proporcao_treino = 0.70\n",
        "\n",
        "# Calcular o índice de separação\n",
        "total_linhas = len(dados_ohlc)\n",
        "indice_separacao = int(total_linhas * proporcao_treino)\n",
        "\n",
        "# Dividir o DataFrame\n",
        "dados_teste = dados_ohlc.iloc[:indice_separacao]\n",
        "dados_valid = dados_ohlc.iloc[indice_separacao:]\n",
        "\n",
        "# Verificar os tamanhos dos conjuntos\n",
        "print(f\"Tamanho do conjunto de teste: {len(dados_teste)}\")\n",
        "print(f\"Tamanho do conjunto de validação: {len(dados_valid)}\")"
      ],
      "metadata": {
        "id": "Ei7PzvCy72Ax"
      },
      "execution_count": null,
      "outputs": []
    },
    {
      "cell_type": "markdown",
      "source": [
        "#4. Definindo metricas a serem testadas"
      ],
      "metadata": {
        "id": "xjDHDtYM_MZi"
      }
    },
    {
      "cell_type": "code",
      "source": [
        "periodo_rsi = list(range(7, 22, 1))\n",
        "niveis_entrada = list(range(10, 51, 5))\n",
        "niveis_saida = list(range(50, 91, 5))\n"
      ],
      "metadata": {
        "id": "MPk3exC4Cthx"
      },
      "execution_count": null,
      "outputs": []
    },
    {
      "cell_type": "markdown",
      "source": [
        "#5. Loop de testes com dados de Teste"
      ],
      "metadata": {
        "id": "JcC7o0xQGv5R"
      }
    },
    {
      "cell_type": "code",
      "source": [
        "lista_resultados = []\n",
        "lista_backtest = []\n",
        "\n",
        "for periodo in periodo_rsi:\n",
        "  dados_teste2 = dados_teste.copy()\n",
        "  rsi = ta.momentum.RSIIndicator(dados_teste2['Adj Close'], window = periodo, fillna = False)\n",
        "  dados_teste2['RSI'] = rsi.rsi()\n",
        "  dados_teste2 = dados_teste2.dropna()\n",
        "  for i in niveis_entrada:\n",
        "        for j in niveis_saida:\n",
        "\n",
        "          entradas = dados_teste2['RSI'] < i\n",
        "\n",
        "          saidas = dados_teste2['RSI'] > j\n",
        "\n",
        "          backtest = vbt.Portfolio.from_signals(dados_teste2['Adj Close'],\n",
        "                                                    entradas,\n",
        "                                                    saidas,\n",
        "                                                    direction='longonly',\n",
        "                                                    size_type='Amount', size=1)\n",
        "          retorno_holding = (dados_teste2['Adj Close'].iloc[-1] - dados_teste2['Adj Close'].iloc[0]) / dados_teste2['Adj Close'].iloc[0]\n",
        "\n",
        "          lista_resultados.append([periodo, i, j, backtest.stats()['Total Return [%]'], backtest.trades.records_readable[\"Return\"].sum()*100, backtest.stats()['Benchmark Return [%]'], retorno_holding*100 ])\n",
        "          lista_backtest.append(backtest)\n"
      ],
      "metadata": {
        "id": "jQfMdU90E-FC"
      },
      "execution_count": null,
      "outputs": []
    },
    {
      "cell_type": "markdown",
      "source": [
        "# 6. Conferindo os 10 melhores resultados"
      ],
      "metadata": {
        "id": "ahSBkki6ymlG"
      }
    },
    {
      "cell_type": "code",
      "source": [
        "resultados = pd.DataFrame(lista_resultados, columns=['Periodo','Entrada', 'Saida', 'Resultado', \"Resultado 2\", 'Resultado Holding', 'Resultado Holding 2'])\n",
        "top10 = resultados.sort_values(by='Resultado 2', ascending=False).head(10)\n",
        "top10"
      ],
      "metadata": {
        "id": "ghQ9EPdzICES"
      },
      "execution_count": null,
      "outputs": []
    },
    {
      "cell_type": "markdown",
      "source": [
        "#7. Visualização individual do teste"
      ],
      "metadata": {
        "id": "lxfBSI3b72g-"
      }
    },
    {
      "cell_type": "code",
      "source": [
        "lista_backtest[312].plot().show()"
      ],
      "metadata": {
        "id": "mHmxs-oDFCu7"
      },
      "execution_count": null,
      "outputs": []
    },
    {
      "cell_type": "code",
      "source": [
        "lista_backtest[312].stats()"
      ],
      "metadata": {
        "id": "DufVX1u3F9oB"
      },
      "execution_count": null,
      "outputs": []
    },
    {
      "cell_type": "markdown",
      "source": [
        "#8. Teste Apenas com os parametros top10 dos dados de teste"
      ],
      "metadata": {
        "id": "FIaU-LqM54hP"
      }
    },
    {
      "cell_type": "code",
      "source": [
        "periodos_top = top10['Periodo'].tolist()\n",
        "entradas_top = top10['Entrada'].tolist()\n",
        "saidas_top = top10['Saida'].tolist()"
      ],
      "metadata": {
        "id": "BJQRzDIgMvIh"
      },
      "execution_count": null,
      "outputs": []
    },
    {
      "cell_type": "code",
      "source": [
        "lista_resultados_teste = []\n",
        "lista_backtest_teste = []\n",
        "\n",
        "for i in range(len(entradas_top)):\n",
        "\n",
        "  dados_valid2 = dados_valid.copy()\n",
        "  rsi = ta.momentum.RSIIndicator(dados_valid2['Close'], window = periodos_top[i], fillna = False)\n",
        "  dados_valid2['RSI'] = rsi.rsi()\n",
        "  dados_valid2 = dados_valid2.dropna()\n",
        "\n",
        "  entradas = dados_valid2['RSI'] < entradas_top[i]\n",
        "\n",
        "  saidas = dados_valid2['RSI'] > saidas_top[i]\n",
        "\n",
        "  backtest = vbt.Portfolio.from_signals(dados_valid2['Close'],\n",
        "                                            entradas,\n",
        "                                            saidas,\n",
        "                                            direction='longonly',\n",
        "                                            size_type='Amount', size=1)\n",
        "  lista_resultados_teste.append([periodos_top[i], entradas_top[i], saidas_top[i], backtest.stats()['Total Return [%]'], backtest.trades.records_readable[\"Return\"].sum()*100, backtest.stats()['Benchmark Return [%]'] ])\n",
        "  lista_backtest.append(backtest)"
      ],
      "metadata": {
        "id": "9rnvwp17Njox"
      },
      "execution_count": null,
      "outputs": []
    },
    {
      "cell_type": "code",
      "source": [
        "resultados_teste = pd.DataFrame(lista_resultados_teste, columns=['Periodo', 'Entrada', 'Saida', 'Resultado','Resultado 2', 'Resultado Holding'])\n",
        "top10_teste = resultados_teste.sort_values(by='Resultado', ascending=False).head(10)\n",
        "top10_teste"
      ],
      "metadata": {
        "id": "njvBmvObP8wS"
      },
      "execution_count": null,
      "outputs": []
    },
    {
      "cell_type": "markdown",
      "source": [
        "#9. Backtesting com dados de Validação"
      ],
      "metadata": {
        "id": "J9ElHhVF2b8f"
      }
    },
    {
      "cell_type": "code",
      "source": [
        "lista_resultados_valid = []\n",
        "lista_backtest_valid = []\n",
        "\n",
        "for periodo in periodo_rsi:\n",
        "  dados_valid2 = dados_valid.copy()\n",
        "  rsi = ta.momentum.RSIIndicator(dados_valid2['Close'], window = periodo, fillna = False)\n",
        "  dados_valid2['RSI'] = rsi.rsi()\n",
        "  dados_valid2 = dados_valid2.dropna()\n",
        "  for i in niveis_entrada:\n",
        "        for j in niveis_saida:\n",
        "\n",
        "          entradas = dados_valid2['RSI'] < i\n",
        "\n",
        "          saidas = dados_valid2['RSI'] > j\n",
        "\n",
        "          backtest = vbt.Portfolio.from_signals(dados_valid2['Close'],\n",
        "                                                    entradas,\n",
        "                                                    saidas,\n",
        "                                                    direction='longonly',\n",
        "                                                    size_type='Amount', size=1)\n",
        "          if backtest.stats()['Total Return [%]'] > 0:\n",
        "            lista_resultados_valid.append([periodo, i, j, backtest.stats()['Total Return [%]'], backtest.trades.records_readable[\"Return\"].sum()*100, backtest.stats()['Benchmark Return [%]'] ])\n",
        "            lista_backtest_valid.append(backtest)\n"
      ],
      "metadata": {
        "id": "fMvOE0r53Ame"
      },
      "execution_count": null,
      "outputs": []
    },
    {
      "cell_type": "code",
      "source": [
        "resultados_valid = pd.DataFrame(lista_resultados_valid, columns=['Periodo','Entrada', 'Saida', 'Resultado','Resultado 2', 'Resultado Holding'])\n",
        "top10_valid = resultados_valid.sort_values(by='Resultado', ascending=False).head(10)\n",
        "top10_valid"
      ],
      "metadata": {
        "id": "ZoCsu_gt4S9e"
      },
      "execution_count": null,
      "outputs": []
    },
    {
      "cell_type": "code",
      "source": [
        "dados_valid2"
      ],
      "metadata": {
        "id": "DtT7W8RPU1b7"
      },
      "execution_count": null,
      "outputs": []
    },
    {
      "cell_type": "markdown",
      "source": [
        "**Verificando se existem parametros iguais entre os top 10 dos dados de teste e o top 10 dos dados de validação**"
      ],
      "metadata": {
        "id": "-cvJojOHBfTW"
      }
    },
    {
      "cell_type": "code",
      "source": [
        "common_rows = pd.merge(top10_valid, top10, on=['Periodo', 'Entrada', 'Saida'])\n",
        "\n",
        "# Imprimir as linhas comuns\n",
        "print(\"Linhas que são iguais em ambos os dataframes:\")\n",
        "common_rows"
      ],
      "metadata": {
        "id": "umVTr0DYALim"
      },
      "execution_count": null,
      "outputs": []
    }
  ]
}